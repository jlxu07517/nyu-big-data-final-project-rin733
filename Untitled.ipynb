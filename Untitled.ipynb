{
 "cells": [
  {
   "cell_type": "code",
   "execution_count": 3,
   "metadata": {},
   "outputs": [],
   "source": [
    "import numpy as np"
   ]
  },
  {
   "cell_type": "code",
   "execution_count": 112,
   "metadata": {},
   "outputs": [],
   "source": [
    "b = np.arange(40).reshape(8,5) #8 items\n",
    "a = np.arange(-10,10).reshape(4,5)"
   ]
  },
  {
   "cell_type": "code",
   "execution_count": 113,
   "metadata": {},
   "outputs": [
    {
     "data": {
      "text/plain": [
       "array([[ 0,  5, 10, 15, 20, 25, 30, 35],\n",
       "       [ 1,  6, 11, 16, 21, 26, 31, 36],\n",
       "       [ 2,  7, 12, 17, 22, 27, 32, 37],\n",
       "       [ 3,  8, 13, 18, 23, 28, 33, 38],\n",
       "       [ 4,  9, 14, 19, 24, 29, 34, 39]])"
      ]
     },
     "execution_count": 113,
     "metadata": {},
     "output_type": "execute_result"
    }
   ],
   "source": [
    "b.T"
   ]
  },
  {
   "cell_type": "code",
   "execution_count": 114,
   "metadata": {},
   "outputs": [
    {
     "data": {
      "text/plain": [
       "array([[-10,  -9,  -8,  -7,  -6],\n",
       "       [ -5,  -4,  -3,  -2,  -1],\n",
       "       [  0,   1,   2,   3,   4],\n",
       "       [  5,   6,   7,   8,   9]])"
      ]
     },
     "execution_count": 114,
     "metadata": {},
     "output_type": "execute_result"
    }
   ],
   "source": [
    "a"
   ]
  },
  {
   "cell_type": "code",
   "execution_count": 115,
   "metadata": {},
   "outputs": [
    {
     "data": {
      "text/plain": [
       "array([[  -70,  -270,  -470,  -670,  -870, -1070, -1270, -1470],\n",
       "       [  -20,   -95,  -170,  -245,  -320,  -395,  -470,  -545],\n",
       "       [   30,    80,   130,   180,   230,   280,   330,   380],\n",
       "       [   80,   255,   430,   605,   780,   955,  1130,  1305]])"
      ]
     },
     "execution_count": 115,
     "metadata": {},
     "output_type": "execute_result"
    }
   ],
   "source": [
    "a.dot(b.T)"
   ]
  },
  {
   "cell_type": "code",
   "execution_count": 116,
   "metadata": {},
   "outputs": [
    {
     "name": "stdout",
     "output_type": "stream",
     "text": [
      "[[  -70  -270  -470  -670  -870 -1070 -1270 -1470]\n",
      " [  -20   -95  -170  -245  -320  -395  -470  -545]\n",
      " [   30    80   130   180   230   280   330   380]\n",
      " [   80   255   430   605   780   955  1130  1305]]\n"
     ]
    }
   ],
   "source": [
    "c = np.matmul(a,b.T)\n",
    "print(c)"
   ]
  },
  {
   "cell_type": "code",
   "execution_count": 117,
   "metadata": {},
   "outputs": [
    {
     "data": {
      "text/plain": [
       "array([[0, 1, 2, 3, 4, 5, 6, 7],\n",
       "       [7, 6, 5, 4, 3, 2, 1, 0],\n",
       "       [7, 6, 5, 4, 3, 2, 1, 0]])"
      ]
     },
     "execution_count": 117,
     "metadata": {},
     "output_type": "execute_result"
    }
   ],
   "source": [
    "np.argsort(pairwise_result)[::-1][:5]"
   ]
  },
  {
   "cell_type": "code",
   "execution_count": 118,
   "metadata": {},
   "outputs": [],
   "source": [
    "sortindex = np.argsort(c,axis = 1)[::-1]"
   ]
  },
  {
   "cell_type": "code",
   "execution_count": 119,
   "metadata": {},
   "outputs": [
    {
     "data": {
      "text/plain": [
       "array([[0, 1, 2, 3, 4],\n",
       "       [0, 1, 2, 3, 4],\n",
       "       [7, 6, 5, 4, 3],\n",
       "       [7, 6, 5, 4, 3]])"
      ]
     },
     "execution_count": 119,
     "metadata": {},
     "output_type": "execute_result"
    }
   ],
   "source": [
    "sortindex[:,:5]"
   ]
  },
  {
   "cell_type": "code",
   "execution_count": 120,
   "metadata": {},
   "outputs": [
    {
     "data": {
      "text/plain": [
       "array([100,  45,  13,  56,  33,  22,  55,  66])"
      ]
     },
     "execution_count": 120,
     "metadata": {},
     "output_type": "execute_result"
    }
   ],
   "source": [
    "index = np.array([100,45,13,56,33,22,55,66])\n",
    "index"
   ]
  },
  {
   "cell_type": "code",
   "execution_count": 121,
   "metadata": {},
   "outputs": [
    {
     "data": {
      "text/plain": [
       "array([[100,  45,  13,  56,  33],\n",
       "       [100,  45,  13,  56,  33],\n",
       "       [ 66,  55,  22,  33,  56],\n",
       "       [ 66,  55,  22,  33,  56]])"
      ]
     },
     "execution_count": 121,
     "metadata": {},
     "output_type": "execute_result"
    }
   ],
   "source": [
    "index[sortindex[:,:5]]"
   ]
  },
  {
   "cell_type": "code",
   "execution_count": 122,
   "metadata": {},
   "outputs": [
    {
     "data": {
      "text/plain": [
       "array([[ -70, -270, -470, -670, -870],\n",
       "       [ -20,  -95, -170, -245, -320],\n",
       "       [ 380,  330,  280,  230,  180],\n",
       "       [1305, 1130,  955,  780,  605]])"
      ]
     },
     "execution_count": 122,
     "metadata": {},
     "output_type": "execute_result"
    }
   ],
   "source": [
    "np.array([c[i][sortindex[:,:5][i]]for i in range(len(c))])"
   ]
  },
  {
   "cell_type": "code",
   "execution_count": 65,
   "metadata": {},
   "outputs": [],
   "source": [
    "import pandas as pd\n",
    "import time"
   ]
  },
  {
   "cell_type": "code",
   "execution_count": null,
   "metadata": {},
   "outputs": [],
   "source": [
    "test_users = spark.read.parquet(data_file) #test_user_parquet\n",
    "model = ALSModel.load(model_file)\n",
    "usefactor = model.userFactors\n",
    "queryuser = test_users.join(usefactor,test_users.user_num_id == usefactor.id,how = 'left')\n",
    "user = np.array([row.features for row in queryuser.select('features').collect()])\n",
    "itmfactor = model.itemFactors\n",
    "item = np.array([row.features for row in itmfactor.select('features').collect()])\n",
    "itemidx = np.array([row.id for row in itmfactor.select('id').collect()])\n",
    "\n",
    "#userfactor = pd.read_csv('userfactor.csv') #userfactor that we want to make query with\n",
    "#itemfactor = pd.read_csv('itemfactor.csv')\n",
    "# col = userfactor.columns.values[1:]\n",
    "# user = userfactor[col].values #np array\n",
    "# item = itemfactor[col].values\n",
    "\n",
    "# increasing the value of efConstruction improves the quality of a constructed graph and leads to higher accuracy of search. \n",
    "#However this also leads to longer indexing times. \n",
    "#Similarly, increasing the value of efSearch improves recall at the expense of longer retrieval time. \n",
    "# NN (for SW-graph) and M (HNSW). Increasing the values of these parameters (to a certain degree) \n",
    "#leads to better recall and shorter retrieval times (at the expense of longer indexing time).\n",
    "#For low and moderate recall values (e.g., 60-80%) increasing these parameters may lead to longer retrieval times.\n",
    "#The reasonable range of values for these parameters is 5-100.\n",
    "#hird, HNSW has the parameter post, which defines the amount (and type) of postprocessing applied to the constructed graph. The default value is 0, which means no postprocessing. \n",
    "#Additional options are 1 and 2 (2 means more postprocessing).\n",
    "#https://github.com/nmslib/nmslib/blob/master/python_bindings/parameters.md"
   ]
  },
  {
   "cell_type": "code",
   "execution_count": 84,
   "metadata": {},
   "outputs": [],
   "source": [
    "itemidx = np.arange(8)"
   ]
  },
  {
   "cell_type": "code",
   "execution_count": 97,
   "metadata": {},
   "outputs": [
    {
     "data": {
      "text/plain": [
       "array([[0, 1, 2, 3, 4, 5, 6, 7],\n",
       "       [0, 1, 2, 3, 4, 5, 6, 7],\n",
       "       [7, 6, 5, 4, 3, 2, 1, 0]])"
      ]
     },
     "execution_count": 97,
     "metadata": {},
     "output_type": "execute_result"
    }
   ],
   "source": [
    "np.argsort(pairwise_result,axis = 1)[:, ::-1]"
   ]
  },
  {
   "cell_type": "code",
   "execution_count": 98,
   "metadata": {},
   "outputs": [],
   "source": [
    "pairwise_result = np.matmul(a[0:3,:],b.T) #shape = (num_users,num_times)\n",
    "desc_index = np.argsort(pairwise_result,axis = 1)[:, ::-1][:,:5] #shape = (num_users,num_times)\n",
    "residx = itemidx[desc_index].tolist()"
   ]
  },
  {
   "cell_type": "code",
   "execution_count": 100,
   "metadata": {},
   "outputs": [
    {
     "data": {
      "text/plain": [
       "array([[  -70,  -270,  -470,  -670,  -870, -1070, -1270, -1470],\n",
       "       [  -20,   -95,  -170,  -245,  -320,  -395,  -470,  -545],\n",
       "       [   30,    80,   130,   180,   230,   280,   330,   380]])"
      ]
     },
     "execution_count": 100,
     "metadata": {},
     "output_type": "execute_result"
    }
   ],
   "source": [
    "pairwise_result"
   ]
  },
  {
   "cell_type": "code",
   "execution_count": 101,
   "metadata": {},
   "outputs": [
    {
     "data": {
      "text/plain": [
       "array([[0, 1, 2, 3, 4],\n",
       "       [0, 1, 2, 3, 4],\n",
       "       [7, 6, 5, 4, 3]])"
      ]
     },
     "execution_count": 101,
     "metadata": {},
     "output_type": "execute_result"
    }
   ],
   "source": [
    "desc_index"
   ]
  },
  {
   "cell_type": "code",
   "execution_count": 105,
   "metadata": {},
   "outputs": [
    {
     "data": {
      "text/plain": [
       "[[-70, -270, -470, -670, -870],\n",
       " [-20, -95, -170, -245, -320],\n",
       " [380, 330, 280, 230, 180]]"
      ]
     },
     "execution_count": 105,
     "metadata": {},
     "output_type": "execute_result"
    }
   ],
   "source": [
    "[pairwise_dot[i][desc_index[i]].tolist() for i in range(len(pairwise_dot))]"
   ]
  },
  {
   "cell_type": "code",
   "execution_count": 154,
   "metadata": {},
   "outputs": [],
   "source": [
    "a = np.random.randn(504,8)\n",
    "b = np.random.randn(800,8)\n"
   ]
  },
  {
   "cell_type": "code",
   "execution_count": 155,
   "metadata": {},
   "outputs": [
    {
     "name": "stdout",
     "output_type": "stream",
     "text": [
      "500 504\n",
      "500\n"
     ]
    },
    {
     "data": {
      "text/plain": [
       "504"
      ]
     },
     "execution_count": 155,
     "metadata": {},
     "output_type": "execute_result"
    }
   ],
   "source": [
    "len(bruteforce(a,b,np.arange(800),5)[1])"
   ]
  },
  {
   "cell_type": "code",
   "execution_count": 156,
   "metadata": {},
   "outputs": [
    {
     "name": "stdout",
     "output_type": "stream",
     "text": [
      "500 504\n",
      "500\n"
     ]
    },
    {
     "data": {
      "text/plain": [
       "504"
      ]
     },
     "execution_count": 156,
     "metadata": {},
     "output_type": "execute_result"
    }
   ],
   "source": [
    "m = bruteforce(a,b,np.arange(800),5)[0]\n",
    "len(m)"
   ]
  },
  {
   "cell_type": "code",
   "execution_count": 145,
   "metadata": {},
   "outputs": [],
   "source": [
    "# trs_user = np.append(user,np.zeros((user.shape[0],1)),axis = 1)\n",
    "# norms = np.linalg.norm(item,axis = 1)\n",
    "# maxnorm = norms.max()\n",
    "# extra_item_dim = np.sqrt(maxnorm ** 2 - norms ** 2)\n",
    "# trs_item = np.append(item, extra_item_dim.reshape(norms.shape[0], 1), axis=1)\n",
    "# #allset\n",
    "\n",
    "def bruteforce(user,item,itemidx,topk):\n",
    "    '''\n",
    "    user: transformed user array of shape(num_users,rank)\n",
    "    item:transformed item array of shaope (num_items,rank)\n",
    "    itemidx: the original item indeces, 1d numpy array of length num_item\n",
    "    topk: searching for top k nearest neighbors\n",
    "    '''\n",
    "    residx = []\n",
    "    resdist = []\n",
    "    k = 0\n",
    "    while k + 500 < len(user):    \n",
    "        pairwise_dot = np.matmul(user[k:k+500,:],item.T) #shape = (num_users,num_times)\n",
    "        desc_index = np.argsort(pairwise_dot,axis = 1)[:, ::-1][:,:topk] #shape = (num_users,num_times)\n",
    "        residx.extend(itemidx[desc_index].tolist())\n",
    "        resdist.extend([pairwise_dot[i][desc_index[i]].tolist() for i in range(len(pairwise_dot))])\n",
    "        k += 500\n",
    "    if k < len(user):\n",
    "        pairwise_dot = np.matmul(user[k:,:],item.T) #shape = (num_users,num_times)\n",
    "        desc_index = np.argsort(pairwise_dot,axis = 1)[:, ::-1][:,:topk] #shape = (num_users,num_times)\n",
    "        residx.extend(itemidx[desc_index].tolist())\n",
    "        resdist.extend([pairwise_dot[i][desc_index[i]].tolist() for i in range(len(pairwise_dot))])\n",
    "        \n",
    "    return residx,resdist\n",
    "\n",
    "\n",
    "indexParams = {'M': 30, 'indexThreadQty': 4, 'efConstruction': 200, 'post' : 0}\n",
    "index = nmslib.init(method = 'hnsw',space = 'cosinesimil')\n",
    "index.addDataPointBatch(trs_item,ids = itemidx)\n",
    "index.createIndex(indexParams)\n",
    "def nmslib_search(index, trs_user,trs_item,itemidx,topk = 5,efs = 1000):\n",
    "    \n",
    "    queryParams = {'efSearch': efs}\n",
    "    index.setQueryTimeParams(queryParams)\n",
    "    res = index.knnQueryBatch(trs_user,k=topk,num_threads = 4)\n",
    "    residx = [each[0].tolist() for each in res]\n",
    "    resdist = [each[1].tolist() for each in res]\n",
    "    return residx,resdist\n",
    "    "
   ]
  },
  {
   "cell_type": "code",
   "execution_count": 157,
   "metadata": {},
   "outputs": [
    {
     "ename": "NameError",
     "evalue": "name 'nmslib' is not defined",
     "output_type": "error",
     "traceback": [
      "\u001b[0;31m---------------------------------------------------------------------------\u001b[0m",
      "\u001b[0;31mNameError\u001b[0m                                 Traceback (most recent call last)",
      "\u001b[0;32m<ipython-input-157-369ae5353e88>\u001b[0m in \u001b[0;36m<module>\u001b[0;34m\u001b[0m\n\u001b[0;32m----> 1\u001b[0;31m \u001b[0mnmslib_search\u001b[0m\u001b[0;34m(\u001b[0m\u001b[0ma\u001b[0m\u001b[0;34m,\u001b[0m\u001b[0mb\u001b[0m\u001b[0;34m,\u001b[0m\u001b[0mnp\u001b[0m\u001b[0;34m.\u001b[0m\u001b[0marange\u001b[0m\u001b[0;34m(\u001b[0m\u001b[0;36m800\u001b[0m\u001b[0;34m)\u001b[0m\u001b[0;34m,\u001b[0m\u001b[0;36m5\u001b[0m\u001b[0;34m)\u001b[0m\u001b[0;34m[\u001b[0m\u001b[0;36m0\u001b[0m\u001b[0;34m]\u001b[0m\u001b[0;34m\u001b[0m\u001b[0;34m\u001b[0m\u001b[0m\n\u001b[0m",
      "\u001b[0;32m<ipython-input-145-56b96a9007aa>\u001b[0m in \u001b[0;36mnmslib_search\u001b[0;34m(trs_user, trs_item, itemidx, topk, M, numThreads, efc, post, efs)\u001b[0m\n\u001b[1;32m     35\u001b[0m     \u001b[0mindexParams\u001b[0m \u001b[0;34m=\u001b[0m \u001b[0;34m{\u001b[0m\u001b[0;34m'M'\u001b[0m\u001b[0;34m:\u001b[0m \u001b[0mM\u001b[0m\u001b[0;34m,\u001b[0m \u001b[0;34m'indexThreadQty'\u001b[0m\u001b[0;34m:\u001b[0m \u001b[0mnumThreads\u001b[0m\u001b[0;34m,\u001b[0m \u001b[0;34m'efConstruction'\u001b[0m\u001b[0;34m:\u001b[0m \u001b[0mefc\u001b[0m\u001b[0;34m,\u001b[0m \u001b[0;34m'post'\u001b[0m \u001b[0;34m:\u001b[0m \u001b[0mpost\u001b[0m\u001b[0;34m}\u001b[0m\u001b[0;34m\u001b[0m\u001b[0;34m\u001b[0m\u001b[0m\n\u001b[1;32m     36\u001b[0m     \u001b[0mqueryParams\u001b[0m \u001b[0;34m=\u001b[0m \u001b[0;34m{\u001b[0m\u001b[0;34m'efSearch'\u001b[0m\u001b[0;34m:\u001b[0m \u001b[0mefs\u001b[0m\u001b[0;34m}\u001b[0m\u001b[0;34m\u001b[0m\u001b[0;34m\u001b[0m\u001b[0m\n\u001b[0;32m---> 37\u001b[0;31m     \u001b[0mindex\u001b[0m \u001b[0;34m=\u001b[0m \u001b[0mnmslib\u001b[0m\u001b[0;34m.\u001b[0m\u001b[0minit\u001b[0m\u001b[0;34m(\u001b[0m\u001b[0mmethod\u001b[0m \u001b[0;34m=\u001b[0m \u001b[0;34m'hnsw'\u001b[0m\u001b[0;34m,\u001b[0m\u001b[0mspace\u001b[0m \u001b[0;34m=\u001b[0m \u001b[0;34m'cosinesimil'\u001b[0m\u001b[0;34m)\u001b[0m\u001b[0;34m\u001b[0m\u001b[0;34m\u001b[0m\u001b[0m\n\u001b[0m\u001b[1;32m     38\u001b[0m     \u001b[0mindex\u001b[0m\u001b[0;34m.\u001b[0m\u001b[0maddDataPointBatch\u001b[0m\u001b[0;34m(\u001b[0m\u001b[0mtrs_item\u001b[0m\u001b[0;34m,\u001b[0m\u001b[0mids\u001b[0m \u001b[0;34m=\u001b[0m \u001b[0mitemidx\u001b[0m\u001b[0;34m)\u001b[0m\u001b[0;34m\u001b[0m\u001b[0;34m\u001b[0m\u001b[0m\n\u001b[1;32m     39\u001b[0m     \u001b[0mindex\u001b[0m\u001b[0;34m.\u001b[0m\u001b[0mcreateIndex\u001b[0m\u001b[0;34m(\u001b[0m\u001b[0mindexTimeParams\u001b[0m\u001b[0;34m)\u001b[0m\u001b[0;34m\u001b[0m\u001b[0;34m\u001b[0m\u001b[0m\n",
      "\u001b[0;31mNameError\u001b[0m: name 'nmslib' is not defined"
     ]
    }
   ],
   "source": [
    "nmslib_search(a,b,np.arange(800),5)[0]"
   ]
  },
  {
   "cell_type": "code",
   "execution_count": 158,
   "metadata": {},
   "outputs": [],
   "source": [
    "import time"
   ]
  },
  {
   "cell_type": "code",
   "execution_count": 160,
   "metadata": {},
   "outputs": [
    {
     "data": {
      "text/plain": [
       "1557465701.866379"
      ]
     },
     "execution_count": 160,
     "metadata": {},
     "output_type": "execute_result"
    }
   ],
   "source": [
    "time.time()"
   ]
  },
  {
   "cell_type": "code",
   "execution_count": null,
   "metadata": {},
   "outputs": [],
   "source": []
  }
 ],
 "metadata": {
  "kernelspec": {
   "display_name": "Python 3",
   "language": "python",
   "name": "python3"
  },
  "language_info": {
   "codemirror_mode": {
    "name": "ipython",
    "version": 3
   },
   "file_extension": ".py",
   "mimetype": "text/x-python",
   "name": "python",
   "nbconvert_exporter": "python",
   "pygments_lexer": "ipython3",
   "version": "3.7.1"
  }
 },
 "nbformat": 4,
 "nbformat_minor": 2
}
